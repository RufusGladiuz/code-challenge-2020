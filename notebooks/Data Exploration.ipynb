{
 "cells": [
  {
   "cell_type": "code",
   "execution_count": 83,
   "metadata": {},
   "outputs": [],
   "source": [
    "import pandas as pd\n",
    "from sklearn.feature_extraction.text import (\n",
    "    TfidfVectorizer,\n",
    "    CountVectorizer\n",
    ")\n",
    "    \n",
    "from sklearn.preprocessing import StandardScaler\n",
    "from sklearn.model_selection import train_test_split\n",
    "\n",
    "from matplotlib import pyplot as plt\n",
    "\n",
    "import seaborn as sns\n",
    "\n",
    "from lemma_tokenizer import LemmaTokenizer"
   ]
  },
  {
   "cell_type": "code",
   "execution_count": 84,
   "metadata": {},
   "outputs": [
    {
     "data": {
      "text/html": [
       "<div>\n",
       "<style scoped>\n",
       "    .dataframe tbody tr th:only-of-type {\n",
       "        vertical-align: middle;\n",
       "    }\n",
       "\n",
       "    .dataframe tbody tr th {\n",
       "        vertical-align: top;\n",
       "    }\n",
       "\n",
       "    .dataframe thead th {\n",
       "        text-align: right;\n",
       "    }\n",
       "</style>\n",
       "<table border=\"1\" class=\"dataframe\">\n",
       "  <thead>\n",
       "    <tr style=\"text-align: right;\">\n",
       "      <th></th>\n",
       "      <th>country</th>\n",
       "      <th>description</th>\n",
       "      <th>designation</th>\n",
       "      <th>points</th>\n",
       "      <th>price</th>\n",
       "      <th>province</th>\n",
       "      <th>region_1</th>\n",
       "      <th>region_2</th>\n",
       "      <th>taster_name</th>\n",
       "      <th>taster_twitter_handle</th>\n",
       "      <th>title</th>\n",
       "      <th>variety</th>\n",
       "      <th>winery</th>\n",
       "    </tr>\n",
       "  </thead>\n",
       "  <tbody>\n",
       "    <tr>\n",
       "      <th>0</th>\n",
       "      <td>Italy</td>\n",
       "      <td>Fragrances suggest hay, crushed tomato vine an...</td>\n",
       "      <td>Kirchleiten</td>\n",
       "      <td>90</td>\n",
       "      <td>30.0</td>\n",
       "      <td>Northeastern Italy</td>\n",
       "      <td>Alto Adige</td>\n",
       "      <td>NaN</td>\n",
       "      <td>Kerin O’Keefe</td>\n",
       "      <td>@kerinokeefe</td>\n",
       "      <td>Tiefenbrunner 2012 Kirchleiten Sauvignon (Alto...</td>\n",
       "      <td>Sauvignon</td>\n",
       "      <td>Tiefenbrunner</td>\n",
       "    </tr>\n",
       "    <tr>\n",
       "      <th>1</th>\n",
       "      <td>France</td>\n",
       "      <td>Packed with fruit and crisp acidity, this is a...</td>\n",
       "      <td>NaN</td>\n",
       "      <td>87</td>\n",
       "      <td>22.0</td>\n",
       "      <td>Loire Valley</td>\n",
       "      <td>Sancerre</td>\n",
       "      <td>NaN</td>\n",
       "      <td>Roger Voss</td>\n",
       "      <td>@vossroger</td>\n",
       "      <td>Bernard Reverdy et Fils 2014 Rosé (Sancerre)</td>\n",
       "      <td>Rosé</td>\n",
       "      <td>Bernard Reverdy et Fils</td>\n",
       "    </tr>\n",
       "    <tr>\n",
       "      <th>2</th>\n",
       "      <td>Italy</td>\n",
       "      <td>This easy, ruby-red wine displays fresh berry ...</td>\n",
       "      <td>NaN</td>\n",
       "      <td>86</td>\n",
       "      <td>NaN</td>\n",
       "      <td>Tuscany</td>\n",
       "      <td>Chianti Classico</td>\n",
       "      <td>NaN</td>\n",
       "      <td>NaN</td>\n",
       "      <td>NaN</td>\n",
       "      <td>Dievole 2009  Chianti Classico</td>\n",
       "      <td>Sangiovese</td>\n",
       "      <td>Dievole</td>\n",
       "    </tr>\n",
       "    <tr>\n",
       "      <th>3</th>\n",
       "      <td>US</td>\n",
       "      <td>Pretty in violet and rose petals this is a low...</td>\n",
       "      <td>Horseshoe Bend Vineyard</td>\n",
       "      <td>92</td>\n",
       "      <td>50.0</td>\n",
       "      <td>California</td>\n",
       "      <td>Russian River Valley</td>\n",
       "      <td>Sonoma</td>\n",
       "      <td>Virginie Boone</td>\n",
       "      <td>@vboone</td>\n",
       "      <td>Davis Family 2012 Horseshoe Bend Vineyard Pino...</td>\n",
       "      <td>Pinot Noir</td>\n",
       "      <td>Davis Family</td>\n",
       "    </tr>\n",
       "    <tr>\n",
       "      <th>4</th>\n",
       "      <td>US</td>\n",
       "      <td>This golden wine confounds in a mix of wet sto...</td>\n",
       "      <td>Dutton Ranch</td>\n",
       "      <td>93</td>\n",
       "      <td>38.0</td>\n",
       "      <td>California</td>\n",
       "      <td>Russian River Valley</td>\n",
       "      <td>Sonoma</td>\n",
       "      <td>Virginie Boone</td>\n",
       "      <td>@vboone</td>\n",
       "      <td>Dutton-Goldfield 2013 Dutton Ranch Chardonnay ...</td>\n",
       "      <td>Chardonnay</td>\n",
       "      <td>Dutton-Goldfield</td>\n",
       "    </tr>\n",
       "  </tbody>\n",
       "</table>\n",
       "</div>"
      ],
      "text/plain": [
       "  country                                        description  \\\n",
       "0   Italy  Fragrances suggest hay, crushed tomato vine an...   \n",
       "1  France  Packed with fruit and crisp acidity, this is a...   \n",
       "2   Italy  This easy, ruby-red wine displays fresh berry ...   \n",
       "3      US  Pretty in violet and rose petals this is a low...   \n",
       "4      US  This golden wine confounds in a mix of wet sto...   \n",
       "\n",
       "               designation  points  price            province  \\\n",
       "0              Kirchleiten      90   30.0  Northeastern Italy   \n",
       "1                      NaN      87   22.0        Loire Valley   \n",
       "2                      NaN      86    NaN             Tuscany   \n",
       "3  Horseshoe Bend Vineyard      92   50.0          California   \n",
       "4             Dutton Ranch      93   38.0          California   \n",
       "\n",
       "               region_1 region_2     taster_name taster_twitter_handle  \\\n",
       "0            Alto Adige      NaN   Kerin O’Keefe          @kerinokeefe   \n",
       "1              Sancerre      NaN      Roger Voss            @vossroger   \n",
       "2      Chianti Classico      NaN             NaN                   NaN   \n",
       "3  Russian River Valley   Sonoma  Virginie Boone               @vboone   \n",
       "4  Russian River Valley   Sonoma  Virginie Boone               @vboone   \n",
       "\n",
       "                                               title     variety  \\\n",
       "0  Tiefenbrunner 2012 Kirchleiten Sauvignon (Alto...   Sauvignon   \n",
       "1       Bernard Reverdy et Fils 2014 Rosé (Sancerre)        Rosé   \n",
       "2                     Dievole 2009  Chianti Classico  Sangiovese   \n",
       "3  Davis Family 2012 Horseshoe Bend Vineyard Pino...  Pinot Noir   \n",
       "4  Dutton-Goldfield 2013 Dutton Ranch Chardonnay ...  Chardonnay   \n",
       "\n",
       "                    winery  \n",
       "0            Tiefenbrunner  \n",
       "1  Bernard Reverdy et Fils  \n",
       "2                  Dievole  \n",
       "3             Davis Family  \n",
       "4         Dutton-Goldfield  "
      ]
     },
     "execution_count": 84,
     "metadata": {},
     "output_type": "execute_result"
    }
   ],
   "source": [
    "wine = pd.read_csv(\"dataset_sampled.csv\")\n",
    "wine = wine.drop(columns = [\"Unnamed: 0\"])\n",
    "wine.head()"
   ]
  },
  {
   "cell_type": "code",
   "execution_count": 290,
   "metadata": {},
   "outputs": [
    {
     "data": {
      "text/plain": [
       "<AxesSubplot:title={'center':'Lable Distribution'}, ylabel='Frequency'>"
      ]
     },
     "execution_count": 290,
     "metadata": {},
     "output_type": "execute_result"
    },
    {
     "data": {
      "image/png": "[encoded data removed]",
      "text/plain": [
       "<Figure size 432x288 with 1 Axes>"
      ]
     },
     "metadata": {
      "needs_background": "light"
     },
     "output_type": "display_data"
    }
   ],
   "source": [
    "wine[\"points\"].plot.hist(title = \"Lable Distribution\")"
   ]
  },
  {
   "cell_type": "markdown",
   "metadata": {},
   "source": [
    "### Investigate Missing values"
   ]
  },
  {
   "cell_type": "code",
   "execution_count": 65,
   "metadata": {
    "scrolled": false
   },
   "outputs": [
    {
     "name": "stdout",
     "output_type": "stream",
     "text": [
      "Example count 10000\n",
      "country NaN: 6\n",
      "Equal to 0.06%\n",
      "--------------------\n",
      "description NaN: 0\n",
      "Equal to 0.0%\n",
      "--------------------\n",
      "designation NaN: 2829\n",
      "Equal to 28.29%\n",
      "--------------------\n",
      "points NaN: 0\n",
      "Equal to 0.0%\n",
      "--------------------\n",
      "price NaN: 677\n",
      "Equal to 6.77%\n",
      "--------------------\n",
      "province NaN: 6\n",
      "Equal to 0.06%\n",
      "--------------------\n",
      "region_1 NaN: 1664\n",
      "Equal to 16.64%\n",
      "--------------------\n",
      "region_2 NaN: 6147\n",
      "Equal to 61.47%\n",
      "--------------------\n",
      "taster_name NaN: 1985\n",
      "Equal to 19.85%\n",
      "--------------------\n",
      "taster_twitter_handle NaN: 2356\n",
      "Equal to 23.56%\n",
      "--------------------\n",
      "title NaN: 0\n",
      "Equal to 0.0%\n",
      "--------------------\n",
      "variety NaN: 0\n",
      "Equal to 0.0%\n",
      "--------------------\n",
      "winery NaN: 0\n",
      "Equal to 0.0%\n",
      "--------------------\n"
     ]
    },
    {
     "data": {
      "image/png": "[encoded data removed]",
      "text/plain": [
       "<Figure size 432x288 with 1 Axes>"
      ]
     },
     "metadata": {
      "needs_background": "light"
     },
     "output_type": "display_data"
    }
   ],
   "source": [
    "def nan_info(data:pd.DataFrame, columns_name:str) -> int:\n",
    "    nan_count = len(data[data[columns_name].isna()])\n",
    "    print(f\"{columns_name} NaN: {nan_count}\")\n",
    "    print(f\"Equal to {(nan_count/len(data))*100}%\")\n",
    "    print(\"-\"*20)\n",
    "    return nan_count\n",
    "\n",
    "print(f\"Example count {len(wine)}\")\n",
    "\n",
    "nan_counts = []\n",
    "\n",
    "for col in wine.columns:\n",
    "    nan_counts.append(nan_info(wine, col))\n",
    "\n",
    "ax = sns.barplot(y = wine.columns, x  = nan_counts)\n",
    "ax.set_title(\"Missing Values per Feature (log x-scale)\")\n",
    "ax.set_xscale(\"log\")"
   ]
  },
  {
   "cell_type": "code",
   "execution_count": 216,
   "metadata": {},
   "outputs": [
    {
     "data": {
      "text/plain": [
       "'99.3% of wine have a unique name'"
      ]
     },
     "execution_count": 216,
     "metadata": {},
     "output_type": "execute_result"
    }
   ],
   "source": [
    "# Designation has to many missing values, thus is not suiteable for a prediction\n",
    "# Same for region_1 and region_2\n",
    "# The title will also be neglected, as it is hard to draw any correlations from it, since it is individual for each wine\n",
    "wine[(wine[\"taster_name\"].isna()) & (~wine[\"taster_twitter_handle\"].isna())]"
   ]
  },
  {
   "cell_type": "markdown",
   "metadata": {},
   "source": [
    "#### Filling missing Taster names"
   ]
  },
  {
   "cell_type": "code",
   "execution_count": 40,
   "metadata": {},
   "outputs": [
    {
     "data": {
      "text/html": [
       "<div>\n",
       "<style scoped>\n",
       "    .dataframe tbody tr th:only-of-type {\n",
       "        vertical-align: middle;\n",
       "    }\n",
       "\n",
       "    .dataframe tbody tr th {\n",
       "        vertical-align: top;\n",
       "    }\n",
       "\n",
       "    .dataframe thead th {\n",
       "        text-align: right;\n",
       "    }\n",
       "</style>\n",
       "<table border=\"1\" class=\"dataframe\">\n",
       "  <thead>\n",
       "    <tr style=\"text-align: right;\">\n",
       "      <th></th>\n",
       "      <th>Unnamed: 0</th>\n",
       "      <th>country</th>\n",
       "      <th>description</th>\n",
       "      <th>designation</th>\n",
       "      <th>points</th>\n",
       "      <th>price</th>\n",
       "      <th>province</th>\n",
       "      <th>region_1</th>\n",
       "      <th>region_2</th>\n",
       "      <th>taster_name</th>\n",
       "      <th>taster_twitter_handle</th>\n",
       "      <th>title</th>\n",
       "      <th>variety</th>\n",
       "      <th>winery</th>\n",
       "    </tr>\n",
       "  </thead>\n",
       "  <tbody>\n",
       "  </tbody>\n",
       "</table>\n",
       "</div>"
      ],
      "text/plain": [
       "Empty DataFrame\n",
       "Columns: [Unnamed: 0, country, description, designation, points, price, province, region_1, region_2, taster_name, taster_twitter_handle, title, variety, winery]\n",
       "Index: []"
      ]
     },
     "execution_count": 40,
     "metadata": {},
     "output_type": "execute_result"
    }
   ],
   "source": [
    "# See if taster name can be filled by using the corresponding twitter handle\n",
    "# They can not, sadly\n",
    "wine[(wine[\"taster_name\"].isna()) & (~wine[\"taster_twitter_handle\"].isna())]"
   ]
  },
  {
   "cell_type": "markdown",
   "metadata": {},
   "source": [
    "#### Fill missing prices"
   ]
  },
  {
   "cell_type": "code",
   "execution_count": 95,
   "metadata": {},
   "outputs": [
    {
     "data": {
      "text/plain": [
       "Text(0.5, 1.0, 'Missing Prices per Country')"
      ]
     },
     "execution_count": 95,
     "metadata": {},
     "output_type": "execute_result"
    },
    {
     "data": {
      "image/png": "[encoded data removed]",
      "text/plain": [
       "<Figure size 432x288 with 1 Axes>"
      ]
     },
     "metadata": {
      "needs_background": "light"
     },
     "output_type": "display_data"
    }
   ],
   "source": [
    "## The plan is to fill the prices by the countries price average\n",
    "## Investigating the countries of the missing prices\n",
    "price_to_country = wine[wine[\"price\"].isna()].country.value_counts()\n",
    "\n",
    "ax = sns.barplot(y = price_to_country.index, x  = price_to_country.values)\n",
    "ax.set_title(\"Missing Prices per Country\")"
   ]
  },
  {
   "cell_type": "code",
   "execution_count": 222,
   "metadata": {},
   "outputs": [
    {
     "data": {
      "text/plain": [
       "array(['Italy', 'France', 'Austria', 'US', 'Chile', 'Portugal', 'Germany',\n",
       "       'Canada', 'South Africa', 'Spain', 'Argentina', nan, 'England'],\n",
       "      dtype=object)"
      ]
     },
     "execution_count": 222,
     "metadata": {},
     "output_type": "execute_result"
    }
   ],
   "source": [
    "wine[wine[\"price\"].isna()].country.unique()"
   ]
  },
  {
   "cell_type": "code",
   "execution_count": 119,
   "metadata": {},
   "outputs": [
    {
     "data": {
      "image/png": "[encoded data removed]",
      "text/plain": [
       "<Figure size 1123.2x1123.2 with 4 Axes>"
      ]
     },
     "metadata": {
      "needs_background": "light"
     },
     "output_type": "display_data"
    }
   ],
   "source": [
    "## Removing outliers\n",
    "def outlieres_per_category(data:pd.DataFrame, category:str, outlieres:str, quantile_cutoff = 0.99):\n",
    "\n",
    "    fig, axs = plt.subplots(nrows = 2, ncols = 2, figsize=(len(data[category].unique())*1.3, \n",
    "                                                           len(data[category].unique())*1.3))\n",
    "    data = data.sort_values(by = category)\n",
    "    ax = sns.boxplot(x = data[category], y = data.price, ax = axs[0][0])\n",
    "    ax.set_xticklabels(labels = data[category].unique(), rotation = 45)\n",
    "    ax.set_title(f\"{outlieres} per {category} outliers\")\n",
    "\n",
    "    average_price = data.groupby(category).mean()\n",
    "\n",
    "    ax = sns.barplot(x = average_price.index, y = average_price[outlieres], ax = axs[1][0])\n",
    "    ax.set_xticklabels(labels = data[category].unique(), rotation = 45)\n",
    "    ax.set_title(f\"Average {outlieres} per {category}\")\n",
    "\n",
    "    for cat in data[category].unique():\n",
    "        quantile = data[data[category] == cat][outlieres].quantile(quantile_cutoff)\n",
    "        data = data[~((data[category] == cat) & (data[outlieres] > quantile))]\n",
    "\n",
    "    ax = sns.boxplot(x = data[category], y = data.price, ax = axs[0][1])\n",
    "    ax.set_xticklabels(labels = data[category].unique(), rotation = 45)\n",
    "    ax.set_title(f\"{outlieres} per {category} removed outliers\")\n",
    "\n",
    "    average_price = data.groupby(category).mean()\n",
    "    \n",
    "    ax = sns.barplot(x = average_price.index, y = average_price[outlieres], ax = axs[1][1])\n",
    "    ax.set_xticklabels(labels = data[category].unique(), rotation = 45)\n",
    "    ax.set_title(f\"Average {outlieres} per {category} remvoed outliers\")\n",
    "\n",
    "    fig.tight_layout()\n",
    "    \n",
    "    return axs, average_price\n",
    "\n",
    "country_slice = wine[wine[\"country\"].isin(wine[wine[\"price\"].isna()].country.unique())].dropna(subset = [\"country\"])\n",
    "\n",
    "axs, price_average = outlieres_per_category(country_slice, \"country\", \"price\", quantile_cutoff = 0.99)"
   ]
  },
  {
   "cell_type": "markdown",
   "metadata": {},
   "source": [
    "### Categorical Features"
   ]
  },
  {
   "cell_type": "code",
   "execution_count": 230,
   "metadata": {},
   "outputs": [
    {
     "name": "stdout",
     "output_type": "stream",
     "text": [
      "country: 38 -> One-Hot-Encoding\n",
      "taster_name: 19 -> One-Hot-Encoding\n",
      "variety: 333 -> Ordinal Encoding\n",
      "province: 249 -> Ordinal Encoding\n",
      "winery: 5460 -> Ordinal Encoding\n"
     ]
    }
   ],
   "source": [
    "## Checking the count of categorical features\n",
    "## To decide on encoding method#\n",
    "## Neglecting twitter_handel, as it should hold the same information like the taster name. \n",
    "## Taster Name, however, is not missing as many value\n",
    "\n",
    "print(f\"country: {len(wine['country'].unique())} -> One-Hot-Encoding\")\n",
    "print(f\"taster_name: {len(wine['taster_name'].unique())} -> One-Hot-Encoding\")\n",
    "print(f\"variety: {len(wine['variety'].unique())} -> Ordinal Encoding\")\n",
    "print(f\"province: {len(wine['province'].unique())} -> Ordinal Encoding\")\n",
    "print(f\"winery: {len(wine['winery'].unique())} -> Ordinal Encoding\")"
   ]
  },
  {
   "cell_type": "markdown",
   "metadata": {},
   "source": [
    "## NLP"
   ]
  },
  {
   "cell_type": "code",
   "execution_count": 246,
   "metadata": {},
   "outputs": [
    {
     "data": {
      "text/html": [
       "<div>\n",
       "<style scoped>\n",
       "    .dataframe tbody tr th:only-of-type {\n",
       "        vertical-align: middle;\n",
       "    }\n",
       "\n",
       "    .dataframe tbody tr th {\n",
       "        vertical-align: top;\n",
       "    }\n",
       "\n",
       "    .dataframe thead th {\n",
       "        text-align: right;\n",
       "    }\n",
       "</style>\n",
       "<table border=\"1\" class=\"dataframe\">\n",
       "  <thead>\n",
       "    <tr style=\"text-align: right;\">\n",
       "      <th></th>\n",
       "      <th>country</th>\n",
       "      <th>description</th>\n",
       "      <th>designation</th>\n",
       "      <th>points</th>\n",
       "      <th>price</th>\n",
       "      <th>province</th>\n",
       "      <th>region_1</th>\n",
       "      <th>region_2</th>\n",
       "      <th>taster_name</th>\n",
       "      <th>taster_twitter_handle</th>\n",
       "      <th>title</th>\n",
       "      <th>variety</th>\n",
       "      <th>winery</th>\n",
       "      <th>description_tok</th>\n",
       "    </tr>\n",
       "  </thead>\n",
       "  <tbody>\n",
       "    <tr>\n",
       "      <th>0</th>\n",
       "      <td>Italy</td>\n",
       "      <td>Fragrances suggest hay, crushed tomato vine an...</td>\n",
       "      <td>Kirchleiten</td>\n",
       "      <td>90</td>\n",
       "      <td>30.0</td>\n",
       "      <td>Northeastern Italy</td>\n",
       "      <td>Alto Adige</td>\n",
       "      <td>NaN</td>\n",
       "      <td>Kerin O’Keefe</td>\n",
       "      <td>@kerinokeefe</td>\n",
       "      <td>Tiefenbrunner 2012 Kirchleiten Sauvignon (Alto...</td>\n",
       "      <td>Sauvignon</td>\n",
       "      <td>Tiefenbrunner</td>\n",
       "      <td>[fragrance, suggest, hay, crushed, tomato, vin...</td>\n",
       "    </tr>\n",
       "    <tr>\n",
       "      <th>1</th>\n",
       "      <td>France</td>\n",
       "      <td>Packed with fruit and crisp acidity, this is a...</td>\n",
       "      <td>NaN</td>\n",
       "      <td>87</td>\n",
       "      <td>22.0</td>\n",
       "      <td>Loire Valley</td>\n",
       "      <td>Sancerre</td>\n",
       "      <td>NaN</td>\n",
       "      <td>Roger Voss</td>\n",
       "      <td>@vossroger</td>\n",
       "      <td>Bernard Reverdy et Fils 2014 Rosé (Sancerre)</td>\n",
       "      <td>Rosé</td>\n",
       "      <td>Bernard Reverdy et Fils</td>\n",
       "      <td>[packed, fruit, crisp, acidity, bright, light,...</td>\n",
       "    </tr>\n",
       "    <tr>\n",
       "      <th>2</th>\n",
       "      <td>Italy</td>\n",
       "      <td>This easy, ruby-red wine displays fresh berry ...</td>\n",
       "      <td>NaN</td>\n",
       "      <td>86</td>\n",
       "      <td>NaN</td>\n",
       "      <td>Tuscany</td>\n",
       "      <td>Chianti Classico</td>\n",
       "      <td>NaN</td>\n",
       "      <td>NaN</td>\n",
       "      <td>NaN</td>\n",
       "      <td>Dievole 2009  Chianti Classico</td>\n",
       "      <td>Sangiovese</td>\n",
       "      <td>Dievole</td>\n",
       "      <td>[easy, ruby, red, wine, display, fresh, berry,...</td>\n",
       "    </tr>\n",
       "    <tr>\n",
       "      <th>3</th>\n",
       "      <td>US</td>\n",
       "      <td>Pretty in violet and rose petals this is a low...</td>\n",
       "      <td>Horseshoe Bend Vineyard</td>\n",
       "      <td>92</td>\n",
       "      <td>50.0</td>\n",
       "      <td>California</td>\n",
       "      <td>Russian River Valley</td>\n",
       "      <td>Sonoma</td>\n",
       "      <td>Virginie Boone</td>\n",
       "      <td>@vboone</td>\n",
       "      <td>Davis Family 2012 Horseshoe Bend Vineyard Pino...</td>\n",
       "      <td>Pinot Noir</td>\n",
       "      <td>Davis Family</td>\n",
       "      <td>[pretty, violet, rose, petal, lower, octane, p...</td>\n",
       "    </tr>\n",
       "    <tr>\n",
       "      <th>4</th>\n",
       "      <td>US</td>\n",
       "      <td>This golden wine confounds in a mix of wet sto...</td>\n",
       "      <td>Dutton Ranch</td>\n",
       "      <td>93</td>\n",
       "      <td>38.0</td>\n",
       "      <td>California</td>\n",
       "      <td>Russian River Valley</td>\n",
       "      <td>Sonoma</td>\n",
       "      <td>Virginie Boone</td>\n",
       "      <td>@vboone</td>\n",
       "      <td>Dutton-Goldfield 2013 Dutton Ranch Chardonnay ...</td>\n",
       "      <td>Chardonnay</td>\n",
       "      <td>Dutton-Goldfield</td>\n",
       "      <td>[golden, wine, confounds, mix, wet, stone, car...</td>\n",
       "    </tr>\n",
       "    <tr>\n",
       "      <th>...</th>\n",
       "      <td>...</td>\n",
       "      <td>...</td>\n",
       "      <td>...</td>\n",
       "      <td>...</td>\n",
       "      <td>...</td>\n",
       "      <td>...</td>\n",
       "      <td>...</td>\n",
       "      <td>...</td>\n",
       "      <td>...</td>\n",
       "      <td>...</td>\n",
       "      <td>...</td>\n",
       "      <td>...</td>\n",
       "      <td>...</td>\n",
       "      <td>...</td>\n",
       "    </tr>\n",
       "    <tr>\n",
       "      <th>9995</th>\n",
       "      <td>France</td>\n",
       "      <td>The fruit bursts out of the glass, while the s...</td>\n",
       "      <td>NaN</td>\n",
       "      <td>92</td>\n",
       "      <td>NaN</td>\n",
       "      <td>Burgundy</td>\n",
       "      <td>Echézeaux</td>\n",
       "      <td>NaN</td>\n",
       "      <td>Roger Voss</td>\n",
       "      <td>@vossroger</td>\n",
       "      <td>Bouchard Aîné &amp; Fils 2005  Echézeaux</td>\n",
       "      <td>Pinot Noir</td>\n",
       "      <td>Bouchard Aîné &amp; Fils</td>\n",
       "      <td>[fruit, burst, glass, supporting, tannin, give...</td>\n",
       "    </tr>\n",
       "    <tr>\n",
       "      <th>9996</th>\n",
       "      <td>US</td>\n",
       "      <td>There's a noticeable tilt of barrel reduction ...</td>\n",
       "      <td>Magnolia</td>\n",
       "      <td>87</td>\n",
       "      <td>30.0</td>\n",
       "      <td>California</td>\n",
       "      <td>Sonoma Coast</td>\n",
       "      <td>Sonoma</td>\n",
       "      <td>Virginie Boone</td>\n",
       "      <td>@vboone</td>\n",
       "      <td>Krutz 2014 Magnolia Pinot Noir (Sonoma Coast)</td>\n",
       "      <td>Pinot Noir</td>\n",
       "      <td>Krutz</td>\n",
       "      <td>[noticeable, tilt, barrel, reduction, wine, ke...</td>\n",
       "    </tr>\n",
       "    <tr>\n",
       "      <th>9997</th>\n",
       "      <td>France</td>\n",
       "      <td>This perfumed, herbal blend of Syrah and Grena...</td>\n",
       "      <td>Rosé in the Air</td>\n",
       "      <td>86</td>\n",
       "      <td>19.0</td>\n",
       "      <td>Provence</td>\n",
       "      <td>Côtes de Provence</td>\n",
       "      <td>NaN</td>\n",
       "      <td>Roger Voss</td>\n",
       "      <td>@vossroger</td>\n",
       "      <td>Château Roquefeuille 2016 Rosé in the Air Rosé...</td>\n",
       "      <td>Rosé</td>\n",
       "      <td>Château Roquefeuille</td>\n",
       "      <td>[perfumed, herbal, blend, syrah, grenache, tig...</td>\n",
       "    </tr>\n",
       "    <tr>\n",
       "      <th>9998</th>\n",
       "      <td>Spain</td>\n",
       "      <td>Berry candy and licorice aromas become more su...</td>\n",
       "      <td>NaN</td>\n",
       "      <td>88</td>\n",
       "      <td>32.0</td>\n",
       "      <td>Northern Spain</td>\n",
       "      <td>Toro</td>\n",
       "      <td>NaN</td>\n",
       "      <td>Michael Schachner</td>\n",
       "      <td>@wineschach</td>\n",
       "      <td>Monte Hiniesta 2009  Toro</td>\n",
       "      <td>Tinta de Toro</td>\n",
       "      <td>Monte Hiniesta</td>\n",
       "      <td>[berry, candy, licorice, aroma, become, subtle...</td>\n",
       "    </tr>\n",
       "    <tr>\n",
       "      <th>9999</th>\n",
       "      <td>Australia</td>\n",
       "      <td>This blend of 70% Grenache, 25% Shiraz and 5% ...</td>\n",
       "      <td>The Ironstone Pressings</td>\n",
       "      <td>90</td>\n",
       "      <td>65.0</td>\n",
       "      <td>South Australia</td>\n",
       "      <td>McLaren Vale</td>\n",
       "      <td>NaN</td>\n",
       "      <td>Joe Czerwinski</td>\n",
       "      <td>@JoeCz</td>\n",
       "      <td>D'Arenberg 2005 The Ironstone Pressings G-S-M ...</td>\n",
       "      <td>G-S-M</td>\n",
       "      <td>D'Arenberg</td>\n",
       "      <td>[blend, grenache, shiraz, mourv, dre, feature,...</td>\n",
       "    </tr>\n",
       "  </tbody>\n",
       "</table>\n",
       "<p>10000 rows × 14 columns</p>\n",
       "</div>"
      ],
      "text/plain": [
       "        country                                        description  \\\n",
       "0         Italy  Fragrances suggest hay, crushed tomato vine an...   \n",
       "1        France  Packed with fruit and crisp acidity, this is a...   \n",
       "2         Italy  This easy, ruby-red wine displays fresh berry ...   \n",
       "3            US  Pretty in violet and rose petals this is a low...   \n",
       "4            US  This golden wine confounds in a mix of wet sto...   \n",
       "...         ...                                                ...   \n",
       "9995     France  The fruit bursts out of the glass, while the s...   \n",
       "9996         US  There's a noticeable tilt of barrel reduction ...   \n",
       "9997     France  This perfumed, herbal blend of Syrah and Grena...   \n",
       "9998      Spain  Berry candy and licorice aromas become more su...   \n",
       "9999  Australia  This blend of 70% Grenache, 25% Shiraz and 5% ...   \n",
       "\n",
       "                  designation  points  price            province  \\\n",
       "0                 Kirchleiten      90   30.0  Northeastern Italy   \n",
       "1                         NaN      87   22.0        Loire Valley   \n",
       "2                         NaN      86    NaN             Tuscany   \n",
       "3     Horseshoe Bend Vineyard      92   50.0          California   \n",
       "4                Dutton Ranch      93   38.0          California   \n",
       "...                       ...     ...    ...                 ...   \n",
       "9995                      NaN      92    NaN            Burgundy   \n",
       "9996                 Magnolia      87   30.0          California   \n",
       "9997          Rosé in the Air      86   19.0            Provence   \n",
       "9998                      NaN      88   32.0      Northern Spain   \n",
       "9999  The Ironstone Pressings      90   65.0     South Australia   \n",
       "\n",
       "                  region_1 region_2        taster_name taster_twitter_handle  \\\n",
       "0               Alto Adige      NaN      Kerin O’Keefe          @kerinokeefe   \n",
       "1                 Sancerre      NaN         Roger Voss            @vossroger   \n",
       "2         Chianti Classico      NaN                NaN                   NaN   \n",
       "3     Russian River Valley   Sonoma     Virginie Boone               @vboone   \n",
       "4     Russian River Valley   Sonoma     Virginie Boone               @vboone   \n",
       "...                    ...      ...                ...                   ...   \n",
       "9995             Echézeaux      NaN         Roger Voss            @vossroger   \n",
       "9996          Sonoma Coast   Sonoma     Virginie Boone               @vboone   \n",
       "9997     Côtes de Provence      NaN         Roger Voss            @vossroger   \n",
       "9998                  Toro      NaN  Michael Schachner           @wineschach   \n",
       "9999          McLaren Vale      NaN     Joe Czerwinski                @JoeCz   \n",
       "\n",
       "                                                  title        variety  \\\n",
       "0     Tiefenbrunner 2012 Kirchleiten Sauvignon (Alto...      Sauvignon   \n",
       "1          Bernard Reverdy et Fils 2014 Rosé (Sancerre)           Rosé   \n",
       "2                        Dievole 2009  Chianti Classico     Sangiovese   \n",
       "3     Davis Family 2012 Horseshoe Bend Vineyard Pino...     Pinot Noir   \n",
       "4     Dutton-Goldfield 2013 Dutton Ranch Chardonnay ...     Chardonnay   \n",
       "...                                                 ...            ...   \n",
       "9995               Bouchard Aîné & Fils 2005  Echézeaux     Pinot Noir   \n",
       "9996      Krutz 2014 Magnolia Pinot Noir (Sonoma Coast)     Pinot Noir   \n",
       "9997  Château Roquefeuille 2016 Rosé in the Air Rosé...           Rosé   \n",
       "9998                          Monte Hiniesta 2009  Toro  Tinta de Toro   \n",
       "9999  D'Arenberg 2005 The Ironstone Pressings G-S-M ...          G-S-M   \n",
       "\n",
       "                       winery  \\\n",
       "0               Tiefenbrunner   \n",
       "1     Bernard Reverdy et Fils   \n",
       "2                     Dievole   \n",
       "3                Davis Family   \n",
       "4            Dutton-Goldfield   \n",
       "...                       ...   \n",
       "9995     Bouchard Aîné & Fils   \n",
       "9996                    Krutz   \n",
       "9997     Château Roquefeuille   \n",
       "9998           Monte Hiniesta   \n",
       "9999               D'Arenberg   \n",
       "\n",
       "                                        description_tok  \n",
       "0     [fragrance, suggest, hay, crushed, tomato, vin...  \n",
       "1     [packed, fruit, crisp, acidity, bright, light,...  \n",
       "2     [easy, ruby, red, wine, display, fresh, berry,...  \n",
       "3     [pretty, violet, rose, petal, lower, octane, p...  \n",
       "4     [golden, wine, confounds, mix, wet, stone, car...  \n",
       "...                                                 ...  \n",
       "9995  [fruit, burst, glass, supporting, tannin, give...  \n",
       "9996  [noticeable, tilt, barrel, reduction, wine, ke...  \n",
       "9997  [perfumed, herbal, blend, syrah, grenache, tig...  \n",
       "9998  [berry, candy, licorice, aroma, become, subtle...  \n",
       "9999  [blend, grenache, shiraz, mourv, dre, feature,...  \n",
       "\n",
       "[10000 rows x 14 columns]"
      ]
     },
     "execution_count": 246,
     "metadata": {},
     "output_type": "execute_result"
    }
   ],
   "source": [
    "tokenizer = LemmaTokenizer()\n",
    "\n",
    "tokenizer(wine.iloc[0][\"description\"])\n",
    "wine[\"description_tok\"] = wine[\"description\"].apply(lambda txt: tokenizer(txt))\n",
    "wine"
   ]
  },
  {
   "cell_type": "code",
   "execution_count": 266,
   "metadata": {},
   "outputs": [
    {
     "data": {
      "text/html": [
       "<div>\n",
       "<style scoped>\n",
       "    .dataframe tbody tr th:only-of-type {\n",
       "        vertical-align: middle;\n",
       "    }\n",
       "\n",
       "    .dataframe tbody tr th {\n",
       "        vertical-align: top;\n",
       "    }\n",
       "\n",
       "    .dataframe thead th {\n",
       "        text-align: right;\n",
       "    }\n",
       "</style>\n",
       "<table border=\"1\" class=\"dataframe\">\n",
       "  <thead>\n",
       "    <tr style=\"text-align: right;\">\n",
       "      <th></th>\n",
       "      <th>Count</th>\n",
       "    </tr>\n",
       "  </thead>\n",
       "  <tbody>\n",
       "    <tr>\n",
       "      <th>wine</th>\n",
       "      <td>6389</td>\n",
       "    </tr>\n",
       "    <tr>\n",
       "      <th>flavor</th>\n",
       "      <td>5387</td>\n",
       "    </tr>\n",
       "    <tr>\n",
       "      <th>fruit</th>\n",
       "      <td>4971</td>\n",
       "    </tr>\n",
       "    <tr>\n",
       "      <th>aroma</th>\n",
       "      <td>3151</td>\n",
       "    </tr>\n",
       "    <tr>\n",
       "      <th>palate</th>\n",
       "      <td>3075</td>\n",
       "    </tr>\n",
       "    <tr>\n",
       "      <th>...</th>\n",
       "      <td>...</td>\n",
       "    </tr>\n",
       "    <tr>\n",
       "      <th>engulfs</th>\n",
       "      <td>1</td>\n",
       "    </tr>\n",
       "    <tr>\n",
       "      <th>lamartine</th>\n",
       "      <td>1</td>\n",
       "    </tr>\n",
       "    <tr>\n",
       "      <th>milly</th>\n",
       "      <td>1</td>\n",
       "    </tr>\n",
       "    <tr>\n",
       "      <th>bourguignon</th>\n",
       "      <td>1</td>\n",
       "    </tr>\n",
       "    <tr>\n",
       "      <th>feathered</th>\n",
       "      <td>1</td>\n",
       "    </tr>\n",
       "  </tbody>\n",
       "</table>\n",
       "<p>10515 rows × 1 columns</p>\n",
       "</div>"
      ],
      "text/plain": [
       "             Count\n",
       "wine          6389\n",
       "flavor        5387\n",
       "fruit         4971\n",
       "aroma         3151\n",
       "palate        3075\n",
       "...            ...\n",
       "engulfs          1\n",
       "lamartine        1\n",
       "milly            1\n",
       "bourguignon      1\n",
       "feathered        1\n",
       "\n",
       "[10515 rows x 1 columns]"
      ]
     },
     "execution_count": 266,
     "metadata": {},
     "output_type": "execute_result"
    }
   ],
   "source": [
    "bag_of_words = dict()\n",
    "\n",
    "for description_tok in wine[\"description_tok\"]:\n",
    "    \n",
    "    for token in description_tok:\n",
    "        \n",
    "        if token in bag_of_words.keys():\n",
    "            bag_of_words[token] = bag_of_words[token] + 1\n",
    "        else:\n",
    "            bag_of_words[token] = 1\n",
    "            \n",
    "bow = pd.DataFrame(index = bag_of_words.keys(), data = bag_of_words.values(), columns = [\"Count\"])\n",
    "bow = bow.sort_values(by = \"Count\", ascending = False)\n",
    "bow"
   ]
  },
  {
   "cell_type": "code",
   "execution_count": 288,
   "metadata": {},
   "outputs": [
    {
     "name": "stdout",
     "output_type": "stream",
     "text": [
      "Size of Vocabulary 10515\n",
      "Words only appearing once 4501\n",
      "Words only found once make up 42.81%\n"
     ]
    }
   ],
   "source": [
    "print(f\"Size of Vocabulary {len(bow)}\")\n",
    "print(f\"Words only appearing once {len(bow[bow['Count'] == 1])}\")\n",
    "print(f\"Words only found once make up {round((len(bow[bow['Count'] == 1])/len(bow))*100, 2)}%\")"
   ]
  },
  {
   "cell_type": "code",
   "execution_count": 268,
   "metadata": {},
   "outputs": [
    {
     "data": {
      "text/plain": [
       "Text(0.5, 1.0, 'Most Frequent Words')"
      ]
     },
     "execution_count": 268,
     "metadata": {},
     "output_type": "execute_result"
    },
    {
     "data": {
      "image/png": "[encoded data removed]",
      "text/plain": [
       "<Figure size 432x288 with 1 Axes>"
      ]
     },
     "metadata": {
      "needs_background": "light"
     },
     "output_type": "display_data"
    }
   ],
   "source": [
    "ax = sns.barplot(x = bow[:20].index, y = bow[:20][\"Count\"])\n",
    "ax.set_xticklabels(labels = bow[:20].index, rotation = 45)\n",
    "ax.set_title(f\"Most Frequent Words\")"
   ]
  },
  {
   "cell_type": "code",
   "execution_count": 115,
   "metadata": {},
   "outputs": [],
   "source": [
    "\n",
    "            \n",
    "            "
   ]
  }
 ],
 "metadata": {
  "kernelspec": {
   "display_name": "Python 3",
   "language": "python",
   "name": "python3"
  },
  "language_info": {
   "codemirror_mode": {
    "name": "ipython",
    "version": 3
   },
   "file_extension": ".py",
   "mimetype": "text/x-python",
   "name": "python",
   "nbconvert_exporter": "python",
   "pygments_lexer": "ipython3",
   "version": "3.7.3"
  }
 },
 "nbformat": 4,
 "nbformat_minor": 4
}
