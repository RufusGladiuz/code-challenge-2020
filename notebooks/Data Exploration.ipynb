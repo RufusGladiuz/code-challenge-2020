{
 "cells": [
  {
   "cell_type": "code",
   "execution_count": 111,
   "metadata": {},
   "outputs": [],
   "source": [
    "import pandas as pd\n",
    "from sklearn.feature_extraction.text import (\n",
    "    TfidfVectorizer,\n",
    "    CountVectorizer\n",
    ")\n",
    "    \n",
    "from sklearn.preprocessing import StandardScaler\n",
    "from sklearn.model_selection import train_test_split\n",
    "\n",
    "from matplotlib import pyplot as plt\n",
    "\n",
    "import seaborn as sns\n",
    "\n",
    "from lemma_tokenizer import LemmaTokenizer"
   ]
  },
  {
   "cell_type": "code",
   "execution_count": 44,
   "metadata": {},
   "outputs": [
    {
     "data": {
      "text/html": [
       "<div>\n",
       "<style scoped>\n",
       "    .dataframe tbody tr th:only-of-type {\n",
       "        vertical-align: middle;\n",
       "    }\n",
       "\n",
       "    .dataframe tbody tr th {\n",
       "        vertical-align: top;\n",
       "    }\n",
       "\n",
       "    .dataframe thead th {\n",
       "        text-align: right;\n",
       "    }\n",
       "</style>\n",
       "<table border=\"1\" class=\"dataframe\">\n",
       "  <thead>\n",
       "    <tr style=\"text-align: right;\">\n",
       "      <th></th>\n",
       "      <th>country</th>\n",
       "      <th>description</th>\n",
       "      <th>designation</th>\n",
       "      <th>points</th>\n",
       "      <th>price</th>\n",
       "      <th>province</th>\n",
       "      <th>region_1</th>\n",
       "      <th>region_2</th>\n",
       "      <th>taster_name</th>\n",
       "      <th>taster_twitter_handle</th>\n",
       "      <th>title</th>\n",
       "      <th>variety</th>\n",
       "      <th>winery</th>\n",
       "    </tr>\n",
       "  </thead>\n",
       "  <tbody>\n",
       "    <tr>\n",
       "      <th>0</th>\n",
       "      <td>Italy</td>\n",
       "      <td>Fragrances suggest hay, crushed tomato vine an...</td>\n",
       "      <td>Kirchleiten</td>\n",
       "      <td>90</td>\n",
       "      <td>30.0</td>\n",
       "      <td>Northeastern Italy</td>\n",
       "      <td>Alto Adige</td>\n",
       "      <td>NaN</td>\n",
       "      <td>Kerin O’Keefe</td>\n",
       "      <td>@kerinokeefe</td>\n",
       "      <td>Tiefenbrunner 2012 Kirchleiten Sauvignon (Alto...</td>\n",
       "      <td>Sauvignon</td>\n",
       "      <td>Tiefenbrunner</td>\n",
       "    </tr>\n",
       "    <tr>\n",
       "      <th>1</th>\n",
       "      <td>France</td>\n",
       "      <td>Packed with fruit and crisp acidity, this is a...</td>\n",
       "      <td>NaN</td>\n",
       "      <td>87</td>\n",
       "      <td>22.0</td>\n",
       "      <td>Loire Valley</td>\n",
       "      <td>Sancerre</td>\n",
       "      <td>NaN</td>\n",
       "      <td>Roger Voss</td>\n",
       "      <td>@vossroger</td>\n",
       "      <td>Bernard Reverdy et Fils 2014 Rosé (Sancerre)</td>\n",
       "      <td>Rosé</td>\n",
       "      <td>Bernard Reverdy et Fils</td>\n",
       "    </tr>\n",
       "    <tr>\n",
       "      <th>2</th>\n",
       "      <td>Italy</td>\n",
       "      <td>This easy, ruby-red wine displays fresh berry ...</td>\n",
       "      <td>NaN</td>\n",
       "      <td>86</td>\n",
       "      <td>NaN</td>\n",
       "      <td>Tuscany</td>\n",
       "      <td>Chianti Classico</td>\n",
       "      <td>NaN</td>\n",
       "      <td>NaN</td>\n",
       "      <td>NaN</td>\n",
       "      <td>Dievole 2009  Chianti Classico</td>\n",
       "      <td>Sangiovese</td>\n",
       "      <td>Dievole</td>\n",
       "    </tr>\n",
       "    <tr>\n",
       "      <th>3</th>\n",
       "      <td>US</td>\n",
       "      <td>Pretty in violet and rose petals this is a low...</td>\n",
       "      <td>Horseshoe Bend Vineyard</td>\n",
       "      <td>92</td>\n",
       "      <td>50.0</td>\n",
       "      <td>California</td>\n",
       "      <td>Russian River Valley</td>\n",
       "      <td>Sonoma</td>\n",
       "      <td>Virginie Boone</td>\n",
       "      <td>@vboone</td>\n",
       "      <td>Davis Family 2012 Horseshoe Bend Vineyard Pino...</td>\n",
       "      <td>Pinot Noir</td>\n",
       "      <td>Davis Family</td>\n",
       "    </tr>\n",
       "    <tr>\n",
       "      <th>4</th>\n",
       "      <td>US</td>\n",
       "      <td>This golden wine confounds in a mix of wet sto...</td>\n",
       "      <td>Dutton Ranch</td>\n",
       "      <td>93</td>\n",
       "      <td>38.0</td>\n",
       "      <td>California</td>\n",
       "      <td>Russian River Valley</td>\n",
       "      <td>Sonoma</td>\n",
       "      <td>Virginie Boone</td>\n",
       "      <td>@vboone</td>\n",
       "      <td>Dutton-Goldfield 2013 Dutton Ranch Chardonnay ...</td>\n",
       "      <td>Chardonnay</td>\n",
       "      <td>Dutton-Goldfield</td>\n",
       "    </tr>\n",
       "  </tbody>\n",
       "</table>\n",
       "</div>"
      ],
      "text/plain": [
       "  country                                        description  \\\n",
       "0   Italy  Fragrances suggest hay, crushed tomato vine an...   \n",
       "1  France  Packed with fruit and crisp acidity, this is a...   \n",
       "2   Italy  This easy, ruby-red wine displays fresh berry ...   \n",
       "3      US  Pretty in violet and rose petals this is a low...   \n",
       "4      US  This golden wine confounds in a mix of wet sto...   \n",
       "\n",
       "               designation  points  price            province  \\\n",
       "0              Kirchleiten      90   30.0  Northeastern Italy   \n",
       "1                      NaN      87   22.0        Loire Valley   \n",
       "2                      NaN      86    NaN             Tuscany   \n",
       "3  Horseshoe Bend Vineyard      92   50.0          California   \n",
       "4             Dutton Ranch      93   38.0          California   \n",
       "\n",
       "               region_1 region_2     taster_name taster_twitter_handle  \\\n",
       "0            Alto Adige      NaN   Kerin O’Keefe          @kerinokeefe   \n",
       "1              Sancerre      NaN      Roger Voss            @vossroger   \n",
       "2      Chianti Classico      NaN             NaN                   NaN   \n",
       "3  Russian River Valley   Sonoma  Virginie Boone               @vboone   \n",
       "4  Russian River Valley   Sonoma  Virginie Boone               @vboone   \n",
       "\n",
       "                                               title     variety  \\\n",
       "0  Tiefenbrunner 2012 Kirchleiten Sauvignon (Alto...   Sauvignon   \n",
       "1       Bernard Reverdy et Fils 2014 Rosé (Sancerre)        Rosé   \n",
       "2                     Dievole 2009  Chianti Classico  Sangiovese   \n",
       "3  Davis Family 2012 Horseshoe Bend Vineyard Pino...  Pinot Noir   \n",
       "4  Dutton-Goldfield 2013 Dutton Ranch Chardonnay ...  Chardonnay   \n",
       "\n",
       "                    winery  \n",
       "0            Tiefenbrunner  \n",
       "1  Bernard Reverdy et Fils  \n",
       "2                  Dievole  \n",
       "3             Davis Family  \n",
       "4         Dutton-Goldfield  "
      ]
     },
     "execution_count": 44,
     "metadata": {},
     "output_type": "execute_result"
    }
   ],
   "source": [
    "wine = pd.read_csv(\"dataset_sampled.csv\")\n",
    "wine = wine.drop(columns = [\"Unnamed: 0\"])\n",
    "wine.head()"
   ]
  },
  {
   "cell_type": "markdown",
   "metadata": {},
   "source": [
    "### Investigate Missing values"
   ]
  },
  {
   "cell_type": "code",
   "execution_count": 65,
   "metadata": {
    "scrolled": false
   },
   "outputs": [
    {
     "name": "stdout",
     "output_type": "stream",
     "text": [
      "Example count 10000\n",
      "country NaN: 6\n",
      "Equal to 0.06%\n",
      "--------------------\n",
      "description NaN: 0\n",
      "Equal to 0.0%\n",
      "--------------------\n",
      "designation NaN: 2829\n",
      "Equal to 28.29%\n",
      "--------------------\n",
      "points NaN: 0\n",
      "Equal to 0.0%\n",
      "--------------------\n",
      "price NaN: 677\n",
      "Equal to 6.77%\n",
      "--------------------\n",
      "province NaN: 6\n",
      "Equal to 0.06%\n",
      "--------------------\n",
      "region_1 NaN: 1664\n",
      "Equal to 16.64%\n",
      "--------------------\n",
      "region_2 NaN: 6147\n",
      "Equal to 61.47%\n",
      "--------------------\n",
      "taster_name NaN: 1985\n",
      "Equal to 19.85%\n",
      "--------------------\n",
      "taster_twitter_handle NaN: 2356\n",
      "Equal to 23.56%\n",
      "--------------------\n",
      "title NaN: 0\n",
      "Equal to 0.0%\n",
      "--------------------\n",
      "variety NaN: 0\n",
      "Equal to 0.0%\n",
      "--------------------\n",
      "winery NaN: 0\n",
      "Equal to 0.0%\n",
      "--------------------\n"
     ]
    },
    {
     "data": {
      "image/png": "[encoded data removed]",
      "text/plain": [
       "<Figure size 432x288 with 1 Axes>"
      ]
     },
     "metadata": {
      "needs_background": "light"
     },
     "output_type": "display_data"
    }
   ],
   "source": [
    "def nan_info(data:pd.DataFrame, columns_name:str) -> int:\n",
    "    nan_count = len(data[data[columns_name].isna()])\n",
    "    print(f\"{columns_name} NaN: {nan_count}\")\n",
    "    print(f\"Equal to {(nan_count/len(data))*100}%\")\n",
    "    print(\"-\"*20)\n",
    "    return nan_count\n",
    "\n",
    "print(f\"Example count {len(wine)}\")\n",
    "\n",
    "nan_counts = []\n",
    "\n",
    "for col in wine.columns:\n",
    "    nan_counts.append(nan_info(wine, col))\n",
    "\n",
    "ax = sns.barplot(y = wine.columns, x  = nan_counts)\n",
    "ax.set_title(\"Missing Values per Feature (log x-scale)\")\n",
    "ax.set_xscale(\"log\")"
   ]
  },
  {
   "cell_type": "code",
   "execution_count": 216,
   "metadata": {},
   "outputs": [
    {
     "data": {
      "text/plain": [
       "'99.3% of wine have a unique name'"
      ]
     },
     "execution_count": 216,
     "metadata": {},
     "output_type": "execute_result"
    }
   ],
   "source": [
    "# Designation has to many missing values, thus is not suiteable for a prediction\n",
    "# Same for region_1 and region_2\n",
    "# The title will also be neglected, as it is hard to draw any correlations from it, since it is individual for each wine\n",
    "wine[(wine[\"taster_name\"].isna()) & (~wine[\"taster_twitter_handle\"].isna())]"
   ]
  },
  {
   "cell_type": "markdown",
   "metadata": {},
   "source": [
    "#### Filling missing Taster names"
   ]
  },
  {
   "cell_type": "code",
   "execution_count": 40,
   "metadata": {},
   "outputs": [
    {
     "data": {
      "text/html": [
       "<div>\n",
       "<style scoped>\n",
       "    .dataframe tbody tr th:only-of-type {\n",
       "        vertical-align: middle;\n",
       "    }\n",
       "\n",
       "    .dataframe tbody tr th {\n",
       "        vertical-align: top;\n",
       "    }\n",
       "\n",
       "    .dataframe thead th {\n",
       "        text-align: right;\n",
       "    }\n",
       "</style>\n",
       "<table border=\"1\" class=\"dataframe\">\n",
       "  <thead>\n",
       "    <tr style=\"text-align: right;\">\n",
       "      <th></th>\n",
       "      <th>Unnamed: 0</th>\n",
       "      <th>country</th>\n",
       "      <th>description</th>\n",
       "      <th>designation</th>\n",
       "      <th>points</th>\n",
       "      <th>price</th>\n",
       "      <th>province</th>\n",
       "      <th>region_1</th>\n",
       "      <th>region_2</th>\n",
       "      <th>taster_name</th>\n",
       "      <th>taster_twitter_handle</th>\n",
       "      <th>title</th>\n",
       "      <th>variety</th>\n",
       "      <th>winery</th>\n",
       "    </tr>\n",
       "  </thead>\n",
       "  <tbody>\n",
       "  </tbody>\n",
       "</table>\n",
       "</div>"
      ],
      "text/plain": [
       "Empty DataFrame\n",
       "Columns: [Unnamed: 0, country, description, designation, points, price, province, region_1, region_2, taster_name, taster_twitter_handle, title, variety, winery]\n",
       "Index: []"
      ]
     },
     "execution_count": 40,
     "metadata": {},
     "output_type": "execute_result"
    }
   ],
   "source": [
    "# See if taster name can be filled by using the corresponding twitter handle\n",
    "# They can not, sadly\n",
    "wine[(wine[\"taster_name\"].isna()) & (~wine[\"taster_twitter_handle\"].isna())]"
   ]
  },
  {
   "cell_type": "markdown",
   "metadata": {},
   "source": [
    "#### Fill missing prices"
   ]
  },
  {
   "cell_type": "code",
   "execution_count": 95,
   "metadata": {},
   "outputs": [
    {
     "data": {
      "text/plain": [
       "Text(0.5, 1.0, 'Missing Prices per Country')"
      ]
     },
     "execution_count": 95,
     "metadata": {},
     "output_type": "execute_result"
    },
    {
     "data": {
      "image/png": "[encoded data removed]",
      "text/plain": [
       "<Figure size 432x288 with 1 Axes>"
      ]
     },
     "metadata": {
      "needs_background": "light"
     },
     "output_type": "display_data"
    }
   ],
   "source": [
    "## The plan is to fill the prices by the countries price average\n",
    "## Investigating the countries of the missing prices\n",
    "price_to_country = wine[wine[\"price\"].isna()].country.value_counts()\n",
    "\n",
    "ax = sns.barplot(y = price_to_country.index, x  = price_to_country.values)\n",
    "ax.set_title(\"Missing Prices per Country\")"
   ]
  },
  {
   "cell_type": "code",
   "execution_count": 222,
   "metadata": {},
   "outputs": [
    {
     "data": {
      "text/plain": [
       "array(['Italy', 'France', 'Austria', 'US', 'Chile', 'Portugal', 'Germany',\n",
       "       'Canada', 'South Africa', 'Spain', 'Argentina', nan, 'England'],\n",
       "      dtype=object)"
      ]
     },
     "execution_count": 222,
     "metadata": {},
     "output_type": "execute_result"
    }
   ],
   "source": [
    "wine[wine[\"price\"].isna()].country.unique()"
   ]
  },
  {
   "cell_type": "code",
   "execution_count": 228,
   "metadata": {},
   "outputs": [
    {
     "data": {
      "image/png": "[encoded data removed]",
      "text/plain": [
       "<Figure size 1123.2x1123.2 with 4 Axes>"
      ]
     },
     "metadata": {
      "needs_background": "light"
     },
     "output_type": "display_data"
    }
   ],
   "source": [
    "## Removing outliers\n",
    "def outlieres_per_categorie(data:pd.DataFrame, categorie:str, outlieres:str, quantile_cutoff = 0.99):\n",
    "\n",
    "    fig, axs = plt.subplots(nrows = 2, ncols = 2, figsize=(len(data[categorie].unique())*1.3, \n",
    "                                                           len(data[categorie].unique())*1.3))\n",
    "    data = data.sort_values(by = categorie)\n",
    "    ax = sns.boxplot(x = data[categorie], y = data.price, ax = axs[0][0])\n",
    "    ax.set_xticklabels(labels = data[categorie].unique(), rotation = 45)\n",
    "    ax.set_title(f\"{outlieres} per {categorie} outliers\")\n",
    "\n",
    "    average_price = data.groupby(categorie).mean()\n",
    "\n",
    "    ax = sns.barplot(x = average_price.index, y = average_price[outlieres], ax = axs[1][0])\n",
    "    ax.set_xticklabels(labels = data[categorie].unique(), rotation = 45)\n",
    "    ax.set_title(f\"Average {outlieres} per {categorie}\")\n",
    "\n",
    "    for cat in data[categorie].unique():\n",
    "        quantile = data[data[categorie] == cat].price.quantile(quantile_cutoff)\n",
    "        data = data[~((data[categorie] == cat) & (data[outlieres] > quantile))]\n",
    "\n",
    "    ax = sns.boxplot(x = data[categorie], y = data.price, ax = axs[0][1])\n",
    "    ax.set_xticklabels(labels = data[categorie].unique(), rotation = 45)\n",
    "    ax.set_title(f\"{outlieres} per {categorie} removed outliers\")\n",
    "\n",
    "    average_price = data.groupby(categorie).mean()\n",
    "    \n",
    "    ax = sns.barplot(x = average_price.index, y = average_price[outlieres], ax = axs[1][1])\n",
    "    ax.set_xticklabels(labels = data[categorie].unique(), rotation = 45)\n",
    "    ax.set_title(f\"Average {categorie} per {categorie} remvoed outliers\")\n",
    "\n",
    "    fig.tight_layout()\n",
    "    \n",
    "    return axs, average_price\n",
    "\n",
    "country_slice = wine[wine[\"country\"].isin(wine[wine[\"price\"].isna()].country.unique())].dropna(subset = [\"country\"])\n",
    "\n",
    "axs, price_average = outlieres_per_categorie(country_slice, \"country\", \"price\", quantile_cutoff = 0.98)"
   ]
  },
  {
   "cell_type": "markdown",
   "metadata": {},
   "source": [
    "### Categorical Features"
   ]
  },
  {
   "cell_type": "code",
   "execution_count": 207,
   "metadata": {},
   "outputs": [
    {
     "name": "stdout",
     "output_type": "stream",
     "text": [
      "variety: 333\n",
      "country: 38\n",
      "province: 249\n",
      "winery: 5460\n",
      "taster_name: 19\n"
     ]
    }
   ],
   "source": [
    "## Checking the count of categorical features\n",
    "## To decide on encoding method#\n",
    "## Neglecting twitter_handel, as it should hold the same information like the taster name. \n",
    "## Taster Name, however, is not missing as many value\n",
    "print(f\"variety: {len(wine['variety'].unique())}\")\n",
    "print(f\"country: {len(wine['country'].unique())}\")\n",
    "print(f\"province: {len(wine['province'].unique())}\")\n",
    "print(f\"winery: {len(wine['winery'].unique())}\")\n",
    "print(f\"taster_name: {len(wine['taster_name'].unique())}\")"
   ]
  },
  {
   "cell_type": "code",
   "execution_count": 174,
   "metadata": {},
   "outputs": [
    {
     "data": {
      "text/plain": [
       "array(['Italy', 'France', 'US', 'South Africa', 'Australia', 'Argentina',\n",
       "       'Germany', 'Austria', 'New Zealand', 'Chile', 'Spain', 'Portugal',\n",
       "       'Canada', 'Hungary', 'England', 'Slovenia', 'Israel', 'Bulgaria',\n",
       "       'Turkey', 'Romania', 'Mexico', 'Greece', 'Serbia', 'Uruguay', nan,\n",
       "       'Croatia', 'Lebanon', 'Georgia', 'Brazil', 'India', 'Moldova',\n",
       "       'Czech Republic', 'Switzerland', 'Peru', 'Morocco', 'Armenia',\n",
       "       'Macedonia', 'Cyprus'], dtype=object)"
      ]
     },
     "execution_count": 174,
     "metadata": {},
     "output_type": "execute_result"
    }
   ],
   "source": [
    "wine[\"country\"].unique()"
   ]
  },
  {
   "cell_type": "code",
   "execution_count": 217,
   "metadata": {},
   "outputs": [
    {
     "data": {
      "text/html": [
       "<div>\n",
       "<style scoped>\n",
       "    .dataframe tbody tr th:only-of-type {\n",
       "        vertical-align: middle;\n",
       "    }\n",
       "\n",
       "    .dataframe tbody tr th {\n",
       "        vertical-align: top;\n",
       "    }\n",
       "\n",
       "    .dataframe thead th {\n",
       "        text-align: right;\n",
       "    }\n",
       "</style>\n",
       "<table border=\"1\" class=\"dataframe\">\n",
       "  <thead>\n",
       "    <tr style=\"text-align: right;\">\n",
       "      <th></th>\n",
       "      <th>country</th>\n",
       "      <th>description</th>\n",
       "      <th>designation</th>\n",
       "      <th>points</th>\n",
       "      <th>price</th>\n",
       "      <th>province</th>\n",
       "      <th>region_1</th>\n",
       "      <th>region_2</th>\n",
       "      <th>taster_name</th>\n",
       "      <th>taster_twitter_handle</th>\n",
       "      <th>title</th>\n",
       "      <th>variety</th>\n",
       "      <th>winery</th>\n",
       "    </tr>\n",
       "  </thead>\n",
       "  <tbody>\n",
       "    <tr>\n",
       "      <th>1511</th>\n",
       "      <td>NaN</td>\n",
       "      <td>Amber to the eye, this wine features an entici...</td>\n",
       "      <td>Dry Unfiltered Rkatsiteli Mtsvane</td>\n",
       "      <td>88</td>\n",
       "      <td>25.0</td>\n",
       "      <td>NaN</td>\n",
       "      <td>NaN</td>\n",
       "      <td>NaN</td>\n",
       "      <td>Mike DeSimone</td>\n",
       "      <td>@worldwineguys</td>\n",
       "      <td>Gotsa Family Wines 2015 Dry Unfiltered Rkatsit...</td>\n",
       "      <td>White Blend</td>\n",
       "      <td>Gotsa Family Wines</td>\n",
       "    </tr>\n",
       "    <tr>\n",
       "      <th>5239</th>\n",
       "      <td>NaN</td>\n",
       "      <td>Made from 100% Melnick this garnet-colored win...</td>\n",
       "      <td>Nobile</td>\n",
       "      <td>88</td>\n",
       "      <td>23.0</td>\n",
       "      <td>NaN</td>\n",
       "      <td>NaN</td>\n",
       "      <td>NaN</td>\n",
       "      <td>Jeff Jenssen</td>\n",
       "      <td>@worldwineguys</td>\n",
       "      <td>Logodaj 2013 Nobile Melnik</td>\n",
       "      <td>Melnik</td>\n",
       "      <td>Logodaj</td>\n",
       "    </tr>\n",
       "    <tr>\n",
       "      <th>5648</th>\n",
       "      <td>NaN</td>\n",
       "      <td>Soft, fruity and juicy, this is a pleasant, si...</td>\n",
       "      <td>Partager</td>\n",
       "      <td>83</td>\n",
       "      <td>NaN</td>\n",
       "      <td>NaN</td>\n",
       "      <td>NaN</td>\n",
       "      <td>NaN</td>\n",
       "      <td>Roger Voss</td>\n",
       "      <td>@vossroger</td>\n",
       "      <td>Barton &amp; Guestier NV Partager Red</td>\n",
       "      <td>Red Blend</td>\n",
       "      <td>Barton &amp; Guestier</td>\n",
       "    </tr>\n",
       "    <tr>\n",
       "      <th>5667</th>\n",
       "      <td>NaN</td>\n",
       "      <td>This wine is made from grapes grown in the Lak...</td>\n",
       "      <td>Márga</td>\n",
       "      <td>89</td>\n",
       "      <td>18.0</td>\n",
       "      <td>NaN</td>\n",
       "      <td>NaN</td>\n",
       "      <td>NaN</td>\n",
       "      <td>Jeff Jenssen</td>\n",
       "      <td>@worldwineguys</td>\n",
       "      <td>St. Donat 2015 Márga Furmint</td>\n",
       "      <td>Furmint</td>\n",
       "      <td>St. Donat</td>\n",
       "    </tr>\n",
       "    <tr>\n",
       "      <th>7333</th>\n",
       "      <td>NaN</td>\n",
       "      <td>Basic cherry aromas turn more earthy and soupy...</td>\n",
       "      <td>Reserva Estate Bottled</td>\n",
       "      <td>85</td>\n",
       "      <td>12.0</td>\n",
       "      <td>NaN</td>\n",
       "      <td>NaN</td>\n",
       "      <td>NaN</td>\n",
       "      <td>Michael Schachner</td>\n",
       "      <td>@wineschach</td>\n",
       "      <td>Chilcas 2015 Reserva Estate Bottled Pinot Noir</td>\n",
       "      <td>Pinot Noir</td>\n",
       "      <td>Chilcas</td>\n",
       "    </tr>\n",
       "    <tr>\n",
       "      <th>7917</th>\n",
       "      <td>NaN</td>\n",
       "      <td>Almost caramel in color, this wine offers arom...</td>\n",
       "      <td>Babaneuri Valley</td>\n",
       "      <td>87</td>\n",
       "      <td>30.0</td>\n",
       "      <td>NaN</td>\n",
       "      <td>NaN</td>\n",
       "      <td>NaN</td>\n",
       "      <td>Mike DeSimone</td>\n",
       "      <td>@worldwineguys</td>\n",
       "      <td>Gotsa Family Wines 2013 Babaneuri Valley Mtsvane</td>\n",
       "      <td>Mtsvane</td>\n",
       "      <td>Gotsa Family Wines</td>\n",
       "    </tr>\n",
       "  </tbody>\n",
       "</table>\n",
       "</div>"
      ],
      "text/plain": [
       "     country                                        description  \\\n",
       "1511     NaN  Amber to the eye, this wine features an entici...   \n",
       "5239     NaN  Made from 100% Melnick this garnet-colored win...   \n",
       "5648     NaN  Soft, fruity and juicy, this is a pleasant, si...   \n",
       "5667     NaN  This wine is made from grapes grown in the Lak...   \n",
       "7333     NaN  Basic cherry aromas turn more earthy and soupy...   \n",
       "7917     NaN  Almost caramel in color, this wine offers arom...   \n",
       "\n",
       "                            designation  points  price province region_1  \\\n",
       "1511  Dry Unfiltered Rkatsiteli Mtsvane      88   25.0      NaN      NaN   \n",
       "5239                             Nobile      88   23.0      NaN      NaN   \n",
       "5648                           Partager      83    NaN      NaN      NaN   \n",
       "5667                              Márga      89   18.0      NaN      NaN   \n",
       "7333             Reserva Estate Bottled      85   12.0      NaN      NaN   \n",
       "7917                   Babaneuri Valley      87   30.0      NaN      NaN   \n",
       "\n",
       "     region_2        taster_name taster_twitter_handle  \\\n",
       "1511      NaN      Mike DeSimone        @worldwineguys   \n",
       "5239      NaN       Jeff Jenssen        @worldwineguys   \n",
       "5648      NaN         Roger Voss            @vossroger   \n",
       "5667      NaN       Jeff Jenssen        @worldwineguys   \n",
       "7333      NaN  Michael Schachner           @wineschach   \n",
       "7917      NaN      Mike DeSimone        @worldwineguys   \n",
       "\n",
       "                                                  title      variety  \\\n",
       "1511  Gotsa Family Wines 2015 Dry Unfiltered Rkatsit...  White Blend   \n",
       "5239                         Logodaj 2013 Nobile Melnik       Melnik   \n",
       "5648                  Barton & Guestier NV Partager Red    Red Blend   \n",
       "5667                       St. Donat 2015 Márga Furmint      Furmint   \n",
       "7333     Chilcas 2015 Reserva Estate Bottled Pinot Noir   Pinot Noir   \n",
       "7917   Gotsa Family Wines 2013 Babaneuri Valley Mtsvane      Mtsvane   \n",
       "\n",
       "                  winery  \n",
       "1511  Gotsa Family Wines  \n",
       "5239             Logodaj  \n",
       "5648   Barton & Guestier  \n",
       "5667           St. Donat  \n",
       "7333             Chilcas  \n",
       "7917  Gotsa Family Wines  "
      ]
     },
     "execution_count": 217,
     "metadata": {},
     "output_type": "execute_result"
    }
   ],
   "source": [
    "wine[wine[\"country\"].isna()]"
   ]
  },
  {
   "cell_type": "code",
   "execution_count": 209,
   "metadata": {},
   "outputs": [
    {
     "data": {
      "text/plain": [
       "9930"
      ]
     },
     "execution_count": 209,
     "metadata": {},
     "output_type": "execute_result"
    }
   ],
   "source": []
  },
  {
   "cell_type": "code",
   "execution_count": null,
   "metadata": {},
   "outputs": [],
   "source": []
  }
 ],
 "metadata": {
  "kernelspec": {
   "display_name": "Python 3",
   "language": "python",
   "name": "python3"
  },
  "language_info": {
   "codemirror_mode": {
    "name": "ipython",
    "version": 3
   },
   "file_extension": ".py",
   "mimetype": "text/x-python",
   "name": "python",
   "nbconvert_exporter": "python",
   "pygments_lexer": "ipython3",
   "version": "3.7.3"
  }
 },
 "nbformat": 4,
 "nbformat_minor": 4
}
